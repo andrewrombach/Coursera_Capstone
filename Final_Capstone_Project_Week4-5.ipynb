{
    "nbformat_minor": 1, 
    "cells": [
        {
            "source": "# Final Project - Coursera Capstone", 
            "cell_type": "markdown", 
            "metadata": {
                "collapsed": true
            }
        }, 
        {
            "source": "Andrew R.", 
            "cell_type": "markdown", 
            "metadata": {}
        }, 
        {
            "source": "## Intro", 
            "cell_type": "markdown", 
            "metadata": {}
        }, 
        {
            "source": "I would like to explore where to open a restaurant as a prospective owner in Toronto. It is important to open a restaurant in a high population area with fewer competitors. Using Foursquare API and other data, population trends and competitor numbers will be analyzed to figure out an ideal location for opening up a new restaurant.", 
            "cell_type": "markdown", 
            "metadata": {}
        }, 
        {
            "source": "## Data", 
            "cell_type": "markdown", 
            "metadata": {}
        }, 
        {
            "source": "Basic Toronto Borough data scraped from Wikipedia and location coordinates scraped in the previous lab will be used initially. Then government population data will be appended to it as well as Foursquare API data for restuarant venues.", 
            "cell_type": "markdown", 
            "metadata": {}
        }, 
        {
            "source": "## Methodology", 
            "cell_type": "markdown", 
            "metadata": {}
        }, 
        {
            "source": "It will start with a list of Toronto Boroughs, Neighborhoods, latitude, longitude in a table. With this data, we already have a map of Toronto. The population data will be appended to the dataframe and consequently added to the map. The number of restaurants already located in each borough/neighborhood will also be appended to the map and table. This will allow analysis of the most populated and competitive boroughs.", 
            "cell_type": "markdown", 
            "metadata": {}
        }, 
        {
            "source": "## Results", 
            "cell_type": "markdown", 
            "metadata": {}
        }, 
        {
            "source": "The table was made with the additional data as well as a map with the information. Population seemed to be densest in the Downtown Toronto area. Restaurant numbers were directly proportionate to population.", 
            "cell_type": "markdown", 
            "metadata": {}
        }, 
        {
            "source": "## Discussion", 
            "cell_type": "markdown", 
            "metadata": {}
        }, 
        {
            "source": "Seeing as restaurant numbers were directly proportionate to population, a new business owner may want to simply pick a location that is desnely population to maximize revenue. Picking a lower population area would theoretically have similar/proprotionate competition, but would have fewer customers.", 
            "cell_type": "markdown", 
            "metadata": {}
        }, 
        {
            "source": "## Conclusion", 
            "cell_type": "markdown", 
            "metadata": {}
        }, 
        {
            "source": "New business owners may consider opening up in a densely populated area to maximize their customer base. However, population and number of competitors is likely not the only factor at play. Further analysis is needed to make a more significant conslusion. For example, revenue numbers of competitor restuarants could be a valuable input among other factors.", 
            "cell_type": "markdown", 
            "metadata": {}
        }, 
        {
            "execution_count": null, 
            "cell_type": "code", 
            "metadata": {}, 
            "outputs": [], 
            "source": ""
        }, 
        {
            "execution_count": null, 
            "cell_type": "code", 
            "metadata": {}, 
            "outputs": [], 
            "source": ""
        }
    ], 
    "metadata": {
        "kernelspec": {
            "display_name": "Python 3.6", 
            "name": "python3", 
            "language": "python"
        }, 
        "language_info": {
            "mimetype": "text/x-python", 
            "nbconvert_exporter": "python", 
            "version": "3.6.8", 
            "name": "python", 
            "file_extension": ".py", 
            "pygments_lexer": "ipython3", 
            "codemirror_mode": {
                "version": 3, 
                "name": "ipython"
            }
        }
    }, 
    "nbformat": 4
}